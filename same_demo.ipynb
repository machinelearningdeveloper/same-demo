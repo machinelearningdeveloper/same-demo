{
 "metadata": {
  "name": "same_demo.ipynb"
 },
 "nbformat": 3,
 "nbformat_minor": 0,
 "worksheets": [
  {
   "cells": [
    {
     "cell_type": "code",
     "collapsed": false,
     "input": [
      "# Bundles the code from FEBRL's stringcmp.py into a function\n",
      "# that reports the number (<=4) of leading matching characters\n",
      "# in two strings.  The implementation fails on inputs where\n",
      "# one string is < 4 characters in length AND all of its\n",
      "# characters match the leading characters of the other string.\n",
      "def original_same(str1, str2):\n",
      "  minlen = min(len(str1), len(str2))\n",
      "  for same in range(1,minlen+1):\n",
      "    if (str1[:same] != str2[:same]):\n",
      "      break\n",
      "  same -= 1\n",
      "  if (same > 4):\n",
      "    same = 4\n",
      "  return same"
     ],
     "language": "python",
     "metadata": {},
     "outputs": [],
     "prompt_number": 1
    },
    {
     "cell_type": "code",
     "collapsed": false,
     "input": [
      "assert original_same(\"help\", \"hellos\") == 3, \\\n",
      "       'original same(\"help\", \"hellos\") != 3'\n",
      "print 'Correctly calculated number of matching leading characters usingoriginal_same(\"help\", \"hellos\")'"
     ],
     "language": "python",
     "metadata": {},
     "outputs": [
      {
       "output_type": "stream",
       "stream": "stdout",
       "text": [
        "Correctly calculated number of matching leading characters usingoriginal_same(\"help\", \"hellos\")\n"
       ]
      }
     ],
     "prompt_number": 2
    },
    {
     "cell_type": "code",
     "collapsed": false,
     "input": [
      "assert original_same(\"hello\", \"hellos\") == 4, \\\n",
      "       'original same(\"hello\", \"hellos\") != 4'\n",
      "print 'Correctly calculated number of matching leading characters using original_same(\"hello\", \"hellos\")'"
     ],
     "language": "python",
     "metadata": {},
     "outputs": [
      {
       "output_type": "stream",
       "stream": "stdout",
       "text": [
        "Correctly calculated number of matching leading characters using original_same(\"hello\", \"hellos\")\n"
       ]
      }
     ],
     "prompt_number": 3
    },
    {
     "cell_type": "code",
     "collapsed": false,
     "input": [
      "assert original_same(\"stop\", \"hellos\") == 0, \\\n",
      "       'original same(\"stop\", \"hellos\") != 0'\n",
      "print 'Correctly calculated number of matching leading characters using original_same(\"stop\", \"hellos\")'"
     ],
     "language": "python",
     "metadata": {},
     "outputs": [
      {
       "output_type": "stream",
       "stream": "stdout",
       "text": [
        "Correctly calculated number of matching leading characters using original_same(\"stop\", \"hellos\")\n"
       ]
      }
     ],
     "prompt_number": 4
    },
    {
     "cell_type": "code",
     "collapsed": false,
     "input": [
      "assert original_same(\"h\", \"hellos\") == 1, \\\n",
      "       'original same(\"h\", \"hellos\") != 1'\n",
      "print 'Correctly calculated number of matching leading characters using original_same(\"h\", \"hellos\")'"
     ],
     "language": "python",
     "metadata": {},
     "outputs": [
      {
       "ename": "AssertionError",
       "evalue": "original same(\"h\", \"hellos\") != 1",
       "output_type": "pyerr",
       "traceback": [
        "\u001b[0;31m---------------------------------------------------------------------------\u001b[0m\n\u001b[0;31mAssertionError\u001b[0m                            Traceback (most recent call last)",
        "\u001b[0;32m<ipython-input-5-56ddcd58e9d5>\u001b[0m in \u001b[0;36m<module>\u001b[0;34m()\u001b[0m\n\u001b[0;32m----> 1\u001b[0;31m \u001b[0;32massert\u001b[0m \u001b[0moriginal_same\u001b[0m\u001b[0;34m(\u001b[0m\u001b[0;34m\"h\"\u001b[0m\u001b[0;34m,\u001b[0m \u001b[0;34m\"hellos\"\u001b[0m\u001b[0;34m)\u001b[0m \u001b[0;34m==\u001b[0m \u001b[0;36m1\u001b[0m\u001b[0;34m,\u001b[0m        \u001b[0;34m'original same(\"h\", \"hellos\") != 1'\u001b[0m\u001b[0;34m\u001b[0m\u001b[0m\n\u001b[0m\u001b[1;32m      2\u001b[0m \u001b[0;32mprint\u001b[0m \u001b[0;34m'Correctly calculated number of matching leading characters using original_same(\"h\", \"hellos\")'\u001b[0m\u001b[0;34m\u001b[0m\u001b[0m\n",
        "\u001b[0;31mAssertionError\u001b[0m: original same(\"h\", \"hellos\") != 1"
       ]
      }
     ],
     "prompt_number": 5
    },
    {
     "cell_type": "code",
     "collapsed": false,
     "input": [
      "assert original_same(\"h\", \"h\") == 1, \\\n",
      "       'original_same(\"h\", \"h\") != 1'\n",
      "print 'Correctly calculated number of matching leading characters using original_same(\"h\", \"h\")'"
     ],
     "language": "python",
     "metadata": {},
     "outputs": [
      {
       "ename": "AssertionError",
       "evalue": "original_same(\"h\", \"h\") != 1",
       "output_type": "pyerr",
       "traceback": [
        "\u001b[0;31m---------------------------------------------------------------------------\u001b[0m\n\u001b[0;31mAssertionError\u001b[0m                            Traceback (most recent call last)",
        "\u001b[0;32m<ipython-input-6-e853edc05c3d>\u001b[0m in \u001b[0;36m<module>\u001b[0;34m()\u001b[0m\n\u001b[0;32m----> 1\u001b[0;31m \u001b[0;32massert\u001b[0m \u001b[0moriginal_same\u001b[0m\u001b[0;34m(\u001b[0m\u001b[0;34m\"h\"\u001b[0m\u001b[0;34m,\u001b[0m \u001b[0;34m\"h\"\u001b[0m\u001b[0;34m)\u001b[0m \u001b[0;34m==\u001b[0m \u001b[0;36m1\u001b[0m\u001b[0;34m,\u001b[0m        \u001b[0;34m'original_same(\"h\", \"h\") != 1'\u001b[0m\u001b[0;34m\u001b[0m\u001b[0m\n\u001b[0m\u001b[1;32m      2\u001b[0m \u001b[0;32mprint\u001b[0m \u001b[0;34m'Correctly calculated number of matching leading characters using original_same(\"h\", \"h\")'\u001b[0m\u001b[0;34m\u001b[0m\u001b[0m\n",
        "\u001b[0;31mAssertionError\u001b[0m: original_same(\"h\", \"h\") != 1"
       ]
      }
     ],
     "prompt_number": 6
    },
    {
     "cell_type": "code",
     "collapsed": false,
     "input": [
      "# Define a solution to the problem shown above\n",
      "def number_of_matching_leading_characters(str1, str2):\n",
      "    minlen = min(len(str1), len(str2))\n",
      "    for same in range(min(minlen, 4)):\n",
      "        if str1[same] != str2[same]:\n",
      "            break\n",
      "    else:\n",
      "        same += 1\n",
      "    return same"
     ],
     "language": "python",
     "metadata": {},
     "outputs": [],
     "prompt_number": 7
    },
    {
     "cell_type": "code",
     "collapsed": false,
     "input": [
      "assert number_of_matching_leading_characters(\"help\", \"hellos\") == 3, \\\n",
      "       'number of matching leading characters(\"help\", \"hellos\") != 3'\n",
      "print 'Correctly calculated number of matching leading characters(\"help\", \"hellos\")'"
     ],
     "language": "python",
     "metadata": {},
     "outputs": [
      {
       "output_type": "stream",
       "stream": "stdout",
       "text": [
        "Correctly calculated number of matching leading characters(\"help\", \"hellos\")\n"
       ]
      }
     ],
     "prompt_number": 8
    },
    {
     "cell_type": "code",
     "collapsed": false,
     "input": [
      "assert number_of_matching_leading_characters(\"hello\", \"hellos\") == 4, \\\n",
      "       'number of matching leading characters(\"hello\", \"hellos\") != 4'\n",
      "print 'Correctly calculated number of matching leading characters(\"hello\", \"hellos\")'"
     ],
     "language": "python",
     "metadata": {},
     "outputs": [
      {
       "output_type": "stream",
       "stream": "stdout",
       "text": [
        "Correctly calculated number of matching leading characters(\"hello\", \"hellos\")\n"
       ]
      }
     ],
     "prompt_number": 9
    },
    {
     "cell_type": "code",
     "collapsed": false,
     "input": [
      "assert number_of_matching_leading_characters(\"stop\", \"hellos\") == 0, \\\n",
      "       'number of matching leading characters(\"stop\", \"hellos\") != 0'\n",
      "print 'Correctly calculated number of matching leading characters(\"stop\", \"hellos\")'"
     ],
     "language": "python",
     "metadata": {},
     "outputs": [
      {
       "output_type": "stream",
       "stream": "stdout",
       "text": [
        "Correctly calculated number of matching leading characters(\"stop\", \"hellos\")\n"
       ]
      }
     ],
     "prompt_number": 10
    },
    {
     "cell_type": "code",
     "collapsed": false,
     "input": [
      "assert number_of_matching_leading_characters(\"h\", \"hellos\") == 1, \\\n",
      "       'number of matching leading characters(\"h\", \"hellos\") != 1'\n",
      "print 'Correctly calculated number of matching leading characters(\"h\", \"hellos\")'"
     ],
     "language": "python",
     "metadata": {},
     "outputs": [
      {
       "output_type": "stream",
       "stream": "stdout",
       "text": [
        "Correctly calculated number of matching leading characters(\"h\", \"hellos\")\n"
       ]
      }
     ],
     "prompt_number": 11
    },
    {
     "cell_type": "code",
     "collapsed": false,
     "input": [
      "assert number_of_matching_leading_characters(\"h\", \"h\") == 1, \\\n",
      "       'number of matching leading characters(\"h\", \"h\") != 1'\n",
      "print 'Correctly calculated number of matching leading characters(\"h\", \"h\")'"
     ],
     "language": "python",
     "metadata": {},
     "outputs": [
      {
       "output_type": "stream",
       "stream": "stdout",
       "text": [
        "Correctly calculated number of matching leading characters(\"h\", \"h\")\n"
       ]
      }
     ],
     "prompt_number": 12
    },
    {
     "cell_type": "code",
     "collapsed": false,
     "input": [],
     "language": "python",
     "metadata": {},
     "outputs": []
    }
   ],
   "metadata": {}
  }
 ]
}